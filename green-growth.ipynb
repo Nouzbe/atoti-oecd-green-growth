{
 "cells": [
  {
   "cell_type": "code",
   "execution_count": 1,
   "id": "double-island",
   "metadata": {},
   "outputs": [
    {
     "name": "stdout",
     "output_type": "stream",
     "text": [
      "Welcome to atoti 0.5.1!\n",
      "\n",
      "By using this community edition, you agree with the license available at https://www.atoti.io/eula.\n",
      "Browse the official documentation at https://docs.atoti.io.\n",
      "Join the community at https://www.atoti.io/register.\n",
      "\n",
      "You can hide this message by setting the ATOTI_HIDE_EULA_MESSAGE environment variable to True.\n"
     ]
    }
   ],
   "source": [
    "import atoti as tt\n",
    "\n",
    "session = tt.create_session()"
   ]
  },
  {
   "cell_type": "code",
   "execution_count": 2,
   "id": "gorgeous-gather",
   "metadata": {},
   "outputs": [],
   "source": [
    "countries_store = session.read_csv(\"data/countries.csv\", keys=[\"Three_Letter_Country_Code\"])"
   ]
  },
  {
   "cell_type": "code",
   "execution_count": 3,
   "id": "exempt-haven",
   "metadata": {},
   "outputs": [
    {
     "data": {
      "text/html": [
       "<div>\n",
       "<style scoped>\n",
       "    .dataframe tbody tr th:only-of-type {\n",
       "        vertical-align: middle;\n",
       "    }\n",
       "\n",
       "    .dataframe tbody tr th {\n",
       "        vertical-align: top;\n",
       "    }\n",
       "\n",
       "    .dataframe thead th {\n",
       "        text-align: right;\n",
       "    }\n",
       "</style>\n",
       "<table border=\"1\" class=\"dataframe\">\n",
       "  <thead>\n",
       "    <tr style=\"text-align: right;\">\n",
       "      <th></th>\n",
       "      <th>Continent_Name</th>\n",
       "      <th>Continent_Code</th>\n",
       "      <th>Country_Name</th>\n",
       "      <th>Two_Letter_Country_Code</th>\n",
       "      <th>Country_Number</th>\n",
       "    </tr>\n",
       "    <tr>\n",
       "      <th>Three_Letter_Country_Code</th>\n",
       "      <th></th>\n",
       "      <th></th>\n",
       "      <th></th>\n",
       "      <th></th>\n",
       "      <th></th>\n",
       "    </tr>\n",
       "  </thead>\n",
       "  <tbody>\n",
       "    <tr>\n",
       "      <th>AFG</th>\n",
       "      <td>Asia</td>\n",
       "      <td>AS</td>\n",
       "      <td>Afghanistan, Islamic Republic of</td>\n",
       "      <td>AF</td>\n",
       "      <td>4</td>\n",
       "    </tr>\n",
       "    <tr>\n",
       "      <th>ALB</th>\n",
       "      <td>Europe</td>\n",
       "      <td>EU</td>\n",
       "      <td>Albania, Republic of</td>\n",
       "      <td>AL</td>\n",
       "      <td>8</td>\n",
       "    </tr>\n",
       "    <tr>\n",
       "      <th>ATA</th>\n",
       "      <td>Antarctica</td>\n",
       "      <td>AN</td>\n",
       "      <td>Antarctica (the territory South of 60 deg S)</td>\n",
       "      <td>AQ</td>\n",
       "      <td>10</td>\n",
       "    </tr>\n",
       "    <tr>\n",
       "      <th>DZA</th>\n",
       "      <td>Africa</td>\n",
       "      <td>AF</td>\n",
       "      <td>Algeria, People's Democratic Republic of</td>\n",
       "      <td>DZ</td>\n",
       "      <td>12</td>\n",
       "    </tr>\n",
       "    <tr>\n",
       "      <th>ASM</th>\n",
       "      <td>Oceania</td>\n",
       "      <td>OC</td>\n",
       "      <td>American Samoa</td>\n",
       "      <td>AS</td>\n",
       "      <td>16</td>\n",
       "    </tr>\n",
       "  </tbody>\n",
       "</table>\n",
       "</div>"
      ],
      "text/plain": [
       "                          Continent_Name Continent_Code  \\\n",
       "Three_Letter_Country_Code                                 \n",
       "AFG                                 Asia             AS   \n",
       "ALB                               Europe             EU   \n",
       "ATA                           Antarctica             AN   \n",
       "DZA                               Africa             AF   \n",
       "ASM                              Oceania             OC   \n",
       "\n",
       "                                                           Country_Name  \\\n",
       "Three_Letter_Country_Code                                                 \n",
       "AFG                                    Afghanistan, Islamic Republic of   \n",
       "ALB                                                Albania, Republic of   \n",
       "ATA                        Antarctica (the territory South of 60 deg S)   \n",
       "DZA                            Algeria, People's Democratic Republic of   \n",
       "ASM                                                      American Samoa   \n",
       "\n",
       "                          Two_Letter_Country_Code  Country_Number  \n",
       "Three_Letter_Country_Code                                          \n",
       "AFG                                            AF               4  \n",
       "ALB                                            AL               8  \n",
       "ATA                                            AQ              10  \n",
       "DZA                                            DZ              12  \n",
       "ASM                                            AS              16  "
      ]
     },
     "execution_count": 3,
     "metadata": {},
     "output_type": "execute_result"
    }
   ],
   "source": [
    "countries_store.head()"
   ]
  },
  {
   "cell_type": "code",
   "execution_count": 4,
   "id": "critical-behavior",
   "metadata": {},
   "outputs": [],
   "source": [
    "flags_store = session.read_csv(\"data/flags.csv\", keys=[\"Flag Code\"])"
   ]
  },
  {
   "cell_type": "code",
   "execution_count": 5,
   "id": "statutory-termination",
   "metadata": {},
   "outputs": [
    {
     "data": {
      "text/html": [
       "<div>\n",
       "<style scoped>\n",
       "    .dataframe tbody tr th:only-of-type {\n",
       "        vertical-align: middle;\n",
       "    }\n",
       "\n",
       "    .dataframe tbody tr th {\n",
       "        vertical-align: top;\n",
       "    }\n",
       "\n",
       "    .dataframe thead th {\n",
       "        text-align: right;\n",
       "    }\n",
       "</style>\n",
       "<table border=\"1\" class=\"dataframe\">\n",
       "  <thead>\n",
       "    <tr style=\"text-align: right;\">\n",
       "      <th></th>\n",
       "      <th>Flag Name</th>\n",
       "    </tr>\n",
       "    <tr>\n",
       "      <th>Flag Code</th>\n",
       "      <th></th>\n",
       "    </tr>\n",
       "  </thead>\n",
       "  <tbody>\n",
       "    <tr>\n",
       "      <th>E</th>\n",
       "      <td>Estimated value</td>\n",
       "    </tr>\n",
       "    <tr>\n",
       "      <th>B</th>\n",
       "      <td>Break</td>\n",
       "    </tr>\n",
       "    <tr>\n",
       "      <th>I</th>\n",
       "      <td>Incomplete data</td>\n",
       "    </tr>\n",
       "    <tr>\n",
       "      <th>n</th>\n",
       "      <td>National estimate</td>\n",
       "    </tr>\n",
       "  </tbody>\n",
       "</table>\n",
       "</div>"
      ],
      "text/plain": [
       "                   Flag Name\n",
       "Flag Code                   \n",
       "E            Estimated value\n",
       "B                      Break\n",
       "I            Incomplete data\n",
       "n          National estimate"
      ]
     },
     "execution_count": 5,
     "metadata": {},
     "output_type": "execute_result"
    }
   ],
   "source": [
    "flags_store.head()"
   ]
  },
  {
   "cell_type": "code",
   "execution_count": 6,
   "id": "expensive-pacific",
   "metadata": {},
   "outputs": [],
   "source": [
    "variables_store = session.read_csv(\"data/variables.csv\", keys=[\"Variable Code\"])"
   ]
  },
  {
   "cell_type": "code",
   "execution_count": 7,
   "id": "smaller-manual",
   "metadata": {},
   "outputs": [
    {
     "data": {
      "text/html": [
       "<div>\n",
       "<style scoped>\n",
       "    .dataframe tbody tr th:only-of-type {\n",
       "        vertical-align: middle;\n",
       "    }\n",
       "\n",
       "    .dataframe tbody tr th {\n",
       "        vertical-align: top;\n",
       "    }\n",
       "\n",
       "    .dataframe thead th {\n",
       "        text-align: right;\n",
       "    }\n",
       "</style>\n",
       "<table border=\"1\" class=\"dataframe\">\n",
       "  <thead>\n",
       "    <tr style=\"text-align: right;\">\n",
       "      <th></th>\n",
       "      <th>Variable Name</th>\n",
       "      <th>Unit Code</th>\n",
       "    </tr>\n",
       "    <tr>\n",
       "      <th>Variable Code</th>\n",
       "      <th></th>\n",
       "      <th></th>\n",
       "    </tr>\n",
       "  </thead>\n",
       "  <tbody>\n",
       "    <tr>\n",
       "      <th>CO2_PBPROD</th>\n",
       "      <td>Production-based CO2 productivity, GDP per uni...</td>\n",
       "      <td>USD_KG</td>\n",
       "    </tr>\n",
       "    <tr>\n",
       "      <th>CO2_PBEMCAP</th>\n",
       "      <td>Production-based CO2 intensity, energy-related...</td>\n",
       "      <td>TONNE</td>\n",
       "    </tr>\n",
       "    <tr>\n",
       "      <th>NRG_PROD</th>\n",
       "      <td>Energy productivity,  GDP per unit of TPES</td>\n",
       "      <td>USD</td>\n",
       "    </tr>\n",
       "    <tr>\n",
       "      <th>NRG_INT</th>\n",
       "      <td>Energy intensity, TPES per capita</td>\n",
       "      <td>TOE</td>\n",
       "    </tr>\n",
       "    <tr>\n",
       "      <th>RE_TPES</th>\n",
       "      <td>Renewable energy supply, % total energy supply</td>\n",
       "      <td>PC</td>\n",
       "    </tr>\n",
       "  </tbody>\n",
       "</table>\n",
       "</div>"
      ],
      "text/plain": [
       "                                                   Variable Name Unit Code\n",
       "Variable Code                                                             \n",
       "CO2_PBPROD     Production-based CO2 productivity, GDP per uni...    USD_KG\n",
       "CO2_PBEMCAP    Production-based CO2 intensity, energy-related...     TONNE\n",
       "NRG_PROD              Energy productivity,  GDP per unit of TPES       USD\n",
       "NRG_INT                        Energy intensity, TPES per capita       TOE\n",
       "RE_TPES           Renewable energy supply, % total energy supply        PC"
      ]
     },
     "execution_count": 7,
     "metadata": {},
     "output_type": "execute_result"
    }
   ],
   "source": [
    "variables_store.head()"
   ]
  },
  {
   "cell_type": "code",
   "execution_count": 8,
   "id": "danish-edinburgh",
   "metadata": {},
   "outputs": [],
   "source": [
    "main_store = session.read_csv(\"data/green-growth.csv\", keys=[\"Country Code\", \"Year\"])"
   ]
  },
  {
   "cell_type": "code",
   "execution_count": 9,
   "id": "considerable-highlight",
   "metadata": {},
   "outputs": [
    {
     "data": {
      "text/html": [
       "<div>\n",
       "<style scoped>\n",
       "    .dataframe tbody tr th:only-of-type {\n",
       "        vertical-align: middle;\n",
       "    }\n",
       "\n",
       "    .dataframe tbody tr th {\n",
       "        vertical-align: top;\n",
       "    }\n",
       "\n",
       "    .dataframe thead th {\n",
       "        text-align: right;\n",
       "    }\n",
       "</style>\n",
       "<table border=\"1\" class=\"dataframe\">\n",
       "  <thead>\n",
       "    <tr style=\"text-align: right;\">\n",
       "      <th></th>\n",
       "      <th></th>\n",
       "      <th>Flag Codes</th>\n",
       "      <th>GDP per unit of energy-related CO2 emissions (USD per kg)</th>\n",
       "      <th>Energy-related CO2 per capita (Tonne)</th>\n",
       "      <th>GDP per unit of TPES (USD)</th>\n",
       "      <th>TPES per capita (Tonne of oil equivalent)</th>\n",
       "      <th>Renewable energy supply (% of total energy supply)</th>\n",
       "      <th>Renewable electricity (% of total electricity generation)</th>\n",
       "      <th>Total freshwater abstraction (m3 per capita)</th>\n",
       "      <th>Water stress (total freshwater abstraction as % total available renewable resources)</th>\n",
       "      <th>Water stress (total freshwater abstraction as % total internal renewable resources)</th>\n",
       "      <th>...</th>\n",
       "      <th>Emissions priced &gt; 30€ per tonne of CO2 (% of total emissions)</th>\n",
       "      <th>Farmland Birds (Index, 2000=100)</th>\n",
       "      <th>Marine protected area (% of total exclusive economic zone)</th>\n",
       "      <th>Intact forest landscape loss (% since 2000)</th>\n",
       "      <th>Forest Birds (Index, 2000=100)</th>\n",
       "      <th>Electricity support (% of total fossil fuel support)</th>\n",
       "      <th>CO2 emissions per unit of GDP</th>\n",
       "      <th>Renewable energy supply (excluding solid biofuels) (% of total energy supply)</th>\n",
       "      <th>Naturally regenerating forests (% of total forest area)</th>\n",
       "      <th>Forests with long-term management plans (% of total forest area)</th>\n",
       "    </tr>\n",
       "    <tr>\n",
       "      <th>Country Code</th>\n",
       "      <th>Year</th>\n",
       "      <th></th>\n",
       "      <th></th>\n",
       "      <th></th>\n",
       "      <th></th>\n",
       "      <th></th>\n",
       "      <th></th>\n",
       "      <th></th>\n",
       "      <th></th>\n",
       "      <th></th>\n",
       "      <th></th>\n",
       "      <th></th>\n",
       "      <th></th>\n",
       "      <th></th>\n",
       "      <th></th>\n",
       "      <th></th>\n",
       "      <th></th>\n",
       "      <th></th>\n",
       "      <th></th>\n",
       "      <th></th>\n",
       "      <th></th>\n",
       "      <th></th>\n",
       "    </tr>\n",
       "  </thead>\n",
       "  <tbody>\n",
       "    <tr>\n",
       "      <th>BDI</th>\n",
       "      <th>2015</th>\n",
       "      <td>N/A</td>\n",
       "      <td>NaN</td>\n",
       "      <td>NaN</td>\n",
       "      <td>NaN</td>\n",
       "      <td>NaN</td>\n",
       "      <td>NaN</td>\n",
       "      <td>NaN</td>\n",
       "      <td>NaN</td>\n",
       "      <td>NaN</td>\n",
       "      <td>NaN</td>\n",
       "      <td>...</td>\n",
       "      <td>NaN</td>\n",
       "      <td>NaN</td>\n",
       "      <td>NaN</td>\n",
       "      <td>NaN</td>\n",
       "      <td>NaN</td>\n",
       "      <td>NaN</td>\n",
       "      <td>NaN</td>\n",
       "      <td>NaN</td>\n",
       "      <td>0.596016</td>\n",
       "      <td>NaN</td>\n",
       "    </tr>\n",
       "    <tr>\n",
       "      <th>BWA</th>\n",
       "      <th>2019</th>\n",
       "      <td>N/A</td>\n",
       "      <td>NaN</td>\n",
       "      <td>NaN</td>\n",
       "      <td>NaN</td>\n",
       "      <td>NaN</td>\n",
       "      <td>NaN</td>\n",
       "      <td>NaN</td>\n",
       "      <td>NaN</td>\n",
       "      <td>NaN</td>\n",
       "      <td>NaN</td>\n",
       "      <td>...</td>\n",
       "      <td>NaN</td>\n",
       "      <td>NaN</td>\n",
       "      <td>NaN</td>\n",
       "      <td>NaN</td>\n",
       "      <td>NaN</td>\n",
       "      <td>NaN</td>\n",
       "      <td>NaN</td>\n",
       "      <td>NaN</td>\n",
       "      <td>NaN</td>\n",
       "      <td>NaN</td>\n",
       "    </tr>\n",
       "    <tr>\n",
       "      <th>MNG</th>\n",
       "      <th>2019</th>\n",
       "      <td>N/A</td>\n",
       "      <td>NaN</td>\n",
       "      <td>NaN</td>\n",
       "      <td>NaN</td>\n",
       "      <td>NaN</td>\n",
       "      <td>NaN</td>\n",
       "      <td>NaN</td>\n",
       "      <td>NaN</td>\n",
       "      <td>NaN</td>\n",
       "      <td>NaN</td>\n",
       "      <td>...</td>\n",
       "      <td>NaN</td>\n",
       "      <td>NaN</td>\n",
       "      <td>NaN</td>\n",
       "      <td>NaN</td>\n",
       "      <td>NaN</td>\n",
       "      <td>NaN</td>\n",
       "      <td>NaN</td>\n",
       "      <td>NaN</td>\n",
       "      <td>NaN</td>\n",
       "      <td>NaN</td>\n",
       "    </tr>\n",
       "    <tr>\n",
       "      <th>MDV</th>\n",
       "      <th>2019</th>\n",
       "      <td>E</td>\n",
       "      <td>NaN</td>\n",
       "      <td>NaN</td>\n",
       "      <td>NaN</td>\n",
       "      <td>NaN</td>\n",
       "      <td>NaN</td>\n",
       "      <td>NaN</td>\n",
       "      <td>NaN</td>\n",
       "      <td>NaN</td>\n",
       "      <td>NaN</td>\n",
       "      <td>...</td>\n",
       "      <td>NaN</td>\n",
       "      <td>NaN</td>\n",
       "      <td>NaN</td>\n",
       "      <td>NaN</td>\n",
       "      <td>NaN</td>\n",
       "      <td>NaN</td>\n",
       "      <td>NaN</td>\n",
       "      <td>NaN</td>\n",
       "      <td>NaN</td>\n",
       "      <td>NaN</td>\n",
       "    </tr>\n",
       "    <tr>\n",
       "      <th>SUR</th>\n",
       "      <th>2019</th>\n",
       "      <td>N/A</td>\n",
       "      <td>NaN</td>\n",
       "      <td>NaN</td>\n",
       "      <td>NaN</td>\n",
       "      <td>NaN</td>\n",
       "      <td>NaN</td>\n",
       "      <td>NaN</td>\n",
       "      <td>NaN</td>\n",
       "      <td>NaN</td>\n",
       "      <td>NaN</td>\n",
       "      <td>...</td>\n",
       "      <td>NaN</td>\n",
       "      <td>NaN</td>\n",
       "      <td>NaN</td>\n",
       "      <td>NaN</td>\n",
       "      <td>NaN</td>\n",
       "      <td>NaN</td>\n",
       "      <td>NaN</td>\n",
       "      <td>NaN</td>\n",
       "      <td>NaN</td>\n",
       "      <td>NaN</td>\n",
       "    </tr>\n",
       "  </tbody>\n",
       "</table>\n",
       "<p>5 rows × 155 columns</p>\n",
       "</div>"
      ],
      "text/plain": [
       "                  Flag Codes  \\\n",
       "Country Code Year              \n",
       "BDI          2015        N/A   \n",
       "BWA          2019        N/A   \n",
       "MNG          2019        N/A   \n",
       "MDV          2019          E   \n",
       "SUR          2019        N/A   \n",
       "\n",
       "                   GDP per unit of energy-related CO2 emissions (USD per kg)  \\\n",
       "Country Code Year                                                              \n",
       "BDI          2015                                                NaN           \n",
       "BWA          2019                                                NaN           \n",
       "MNG          2019                                                NaN           \n",
       "MDV          2019                                                NaN           \n",
       "SUR          2019                                                NaN           \n",
       "\n",
       "                   Energy-related CO2 per capita (Tonne)  \\\n",
       "Country Code Year                                          \n",
       "BDI          2015                                    NaN   \n",
       "BWA          2019                                    NaN   \n",
       "MNG          2019                                    NaN   \n",
       "MDV          2019                                    NaN   \n",
       "SUR          2019                                    NaN   \n",
       "\n",
       "                   GDP per unit of TPES (USD)  \\\n",
       "Country Code Year                               \n",
       "BDI          2015                         NaN   \n",
       "BWA          2019                         NaN   \n",
       "MNG          2019                         NaN   \n",
       "MDV          2019                         NaN   \n",
       "SUR          2019                         NaN   \n",
       "\n",
       "                   TPES per capita (Tonne of oil equivalent)  \\\n",
       "Country Code Year                                              \n",
       "BDI          2015                                        NaN   \n",
       "BWA          2019                                        NaN   \n",
       "MNG          2019                                        NaN   \n",
       "MDV          2019                                        NaN   \n",
       "SUR          2019                                        NaN   \n",
       "\n",
       "                   Renewable energy supply (% of total energy supply)  \\\n",
       "Country Code Year                                                       \n",
       "BDI          2015                                                NaN    \n",
       "BWA          2019                                                NaN    \n",
       "MNG          2019                                                NaN    \n",
       "MDV          2019                                                NaN    \n",
       "SUR          2019                                                NaN    \n",
       "\n",
       "                   Renewable electricity (% of total electricity generation)  \\\n",
       "Country Code Year                                                              \n",
       "BDI          2015                                                NaN           \n",
       "BWA          2019                                                NaN           \n",
       "MNG          2019                                                NaN           \n",
       "MDV          2019                                                NaN           \n",
       "SUR          2019                                                NaN           \n",
       "\n",
       "                   Total freshwater abstraction (m3 per capita)  \\\n",
       "Country Code Year                                                 \n",
       "BDI          2015                                           NaN   \n",
       "BWA          2019                                           NaN   \n",
       "MNG          2019                                           NaN   \n",
       "MDV          2019                                           NaN   \n",
       "SUR          2019                                           NaN   \n",
       "\n",
       "                   Water stress (total freshwater abstraction as % total available renewable resources)  \\\n",
       "Country Code Year                                                                                         \n",
       "BDI          2015                                                NaN                                      \n",
       "BWA          2019                                                NaN                                      \n",
       "MNG          2019                                                NaN                                      \n",
       "MDV          2019                                                NaN                                      \n",
       "SUR          2019                                                NaN                                      \n",
       "\n",
       "                   Water stress (total freshwater abstraction as % total internal renewable resources)  \\\n",
       "Country Code Year                                                                                        \n",
       "BDI          2015                                                NaN                                     \n",
       "BWA          2019                                                NaN                                     \n",
       "MNG          2019                                                NaN                                     \n",
       "MDV          2019                                                NaN                                     \n",
       "SUR          2019                                                NaN                                     \n",
       "\n",
       "                   ...  \\\n",
       "Country Code Year  ...   \n",
       "BDI          2015  ...   \n",
       "BWA          2019  ...   \n",
       "MNG          2019  ...   \n",
       "MDV          2019  ...   \n",
       "SUR          2019  ...   \n",
       "\n",
       "                   Emissions priced > 30€ per tonne of CO2 (% of total emissions)  \\\n",
       "Country Code Year                                                                   \n",
       "BDI          2015                                                NaN                \n",
       "BWA          2019                                                NaN                \n",
       "MNG          2019                                                NaN                \n",
       "MDV          2019                                                NaN                \n",
       "SUR          2019                                                NaN                \n",
       "\n",
       "                   Farmland Birds (Index, 2000=100)  \\\n",
       "Country Code Year                                     \n",
       "BDI          2015                               NaN   \n",
       "BWA          2019                               NaN   \n",
       "MNG          2019                               NaN   \n",
       "MDV          2019                               NaN   \n",
       "SUR          2019                               NaN   \n",
       "\n",
       "                   Marine protected area (% of total exclusive economic zone)  \\\n",
       "Country Code Year                                                               \n",
       "BDI          2015                                                NaN            \n",
       "BWA          2019                                                NaN            \n",
       "MNG          2019                                                NaN            \n",
       "MDV          2019                                                NaN            \n",
       "SUR          2019                                                NaN            \n",
       "\n",
       "                   Intact forest landscape loss (% since 2000)  \\\n",
       "Country Code Year                                                \n",
       "BDI          2015                                          NaN   \n",
       "BWA          2019                                          NaN   \n",
       "MNG          2019                                          NaN   \n",
       "MDV          2019                                          NaN   \n",
       "SUR          2019                                          NaN   \n",
       "\n",
       "                   Forest Birds (Index, 2000=100)  \\\n",
       "Country Code Year                                   \n",
       "BDI          2015                             NaN   \n",
       "BWA          2019                             NaN   \n",
       "MNG          2019                             NaN   \n",
       "MDV          2019                             NaN   \n",
       "SUR          2019                             NaN   \n",
       "\n",
       "                   Electricity support (% of total fossil fuel support)  \\\n",
       "Country Code Year                                                         \n",
       "BDI          2015                                                NaN      \n",
       "BWA          2019                                                NaN      \n",
       "MNG          2019                                                NaN      \n",
       "MDV          2019                                                NaN      \n",
       "SUR          2019                                                NaN      \n",
       "\n",
       "                   CO2 emissions per unit of GDP  \\\n",
       "Country Code Year                                  \n",
       "BDI          2015                            NaN   \n",
       "BWA          2019                            NaN   \n",
       "MNG          2019                            NaN   \n",
       "MDV          2019                            NaN   \n",
       "SUR          2019                            NaN   \n",
       "\n",
       "                   Renewable energy supply (excluding solid biofuels) (% of total energy supply)  \\\n",
       "Country Code Year                                                                                  \n",
       "BDI          2015                                                NaN                               \n",
       "BWA          2019                                                NaN                               \n",
       "MNG          2019                                                NaN                               \n",
       "MDV          2019                                                NaN                               \n",
       "SUR          2019                                                NaN                               \n",
       "\n",
       "                   Naturally regenerating forests (% of total forest area)  \\\n",
       "Country Code Year                                                            \n",
       "BDI          2015                                           0.596016         \n",
       "BWA          2019                                                NaN         \n",
       "MNG          2019                                                NaN         \n",
       "MDV          2019                                                NaN         \n",
       "SUR          2019                                                NaN         \n",
       "\n",
       "                   Forests with long-term management plans (% of total forest area)  \n",
       "Country Code Year                                                                    \n",
       "BDI          2015                                                NaN                 \n",
       "BWA          2019                                                NaN                 \n",
       "MNG          2019                                                NaN                 \n",
       "MDV          2019                                                NaN                 \n",
       "SUR          2019                                                NaN                 \n",
       "\n",
       "[5 rows x 155 columns]"
      ]
     },
     "execution_count": 9,
     "metadata": {},
     "output_type": "execute_result"
    }
   ],
   "source": [
    "main_store.head()"
   ]
  },
  {
   "cell_type": "code",
   "execution_count": 10,
   "id": "integrated-injection",
   "metadata": {},
   "outputs": [],
   "source": [
    "main_store.join(countries_store, mapping={\"Country Code\": \"Three_Letter_Country_Code\"})"
   ]
  },
  {
   "cell_type": "code",
   "execution_count": 11,
   "id": "baking-transmission",
   "metadata": {},
   "outputs": [],
   "source": [
    "cube = session.create_cube(main_store)"
   ]
  },
  {
   "cell_type": "code",
   "execution_count": 12,
   "id": "mediterranean-aluminum",
   "metadata": {},
   "outputs": [],
   "source": [
    "h = cube.hierarchies\n",
    "lvl = cube.levels\n",
    "m = cube.measures"
   ]
  },
  {
   "cell_type": "code",
   "execution_count": 13,
   "id": "pediatric-instruction",
   "metadata": {},
   "outputs": [
    {
     "data": {
      "application/json": {
       "Countries": {
        "Continent_Code": [
         "Continent_Code"
        ],
        "Continent_Name": [
         "Continent_Name"
        ],
        "Country_Name": [
         "Country_Name"
        ],
        "Country_Number": [
         "Country_Number"
        ],
        "Two_Letter_Country_Code": [
         "Two_Letter_Country_Code"
        ]
       },
       "Green-growth": {
        "Country Code": [
         "Country Code"
        ],
        "Flag Codes": [
         "Flag Codes"
        ],
        "Year": [
         "Year"
        ]
       }
      },
      "text/html": [
       "<ul>\n",
       "<li>Dimensions\n",
       "  <ul>\n",
       "  <li>Countries\n",
       "    <ul>\n",
       "    <li>Continent_Code\n",
       "      <ol>\n",
       "      <li>Continent_Code</li>\n",
       "      </ol>    </li>\n",
       "    <li>Continent_Name\n",
       "      <ol>\n",
       "      <li>Continent_Name</li>\n",
       "      </ol>    </li>\n",
       "    <li>Country_Name\n",
       "      <ol>\n",
       "      <li>Country_Name</li>\n",
       "      </ol>    </li>\n",
       "    <li>Country_Number\n",
       "      <ol>\n",
       "      <li>Country_Number</li>\n",
       "      </ol>    </li>\n",
       "    <li>Two_Letter_Country_Code\n",
       "      <ol>\n",
       "      <li>Two_Letter_Country_Code</li>\n",
       "      </ol>    </li>\n",
       "    </ul>\n",
       "  </li>\n",
       "  <li>Green-growth\n",
       "    <ul>\n",
       "    <li>Country Code\n",
       "      <ol>\n",
       "      <li>Country Code</li>\n",
       "      </ol>    </li>\n",
       "    <li>Flag Codes\n",
       "      <ol>\n",
       "      <li>Flag Codes</li>\n",
       "      </ol>    </li>\n",
       "    <li>Year\n",
       "      <ol>\n",
       "      <li>Year</li>\n",
       "      </ol>    </li>\n",
       "    </ul>\n",
       "  </li>\n",
       "  </ul>\n",
       "</li>\n",
       "</ul>\n"
      ],
      "text/plain": [
       "Hierarchies()"
      ]
     },
     "execution_count": 13,
     "metadata": {
      "application/json": {
       "expanded": true,
       "root": "Dimensions"
      }
     },
     "output_type": "execute_result"
    }
   ],
   "source": [
    "h"
   ]
  },
  {
   "cell_type": "code",
   "execution_count": 14,
   "id": "wound-underwear",
   "metadata": {},
   "outputs": [],
   "source": [
    "h[\"Country\"] = [lvl[\"Continent_Name\"], lvl[\"Country_Name\"]]"
   ]
  },
  {
   "cell_type": "code",
   "execution_count": 15,
   "id": "composed-october",
   "metadata": {},
   "outputs": [],
   "source": [
    "del h[\"Two_Letter_Country_Code\"]"
   ]
  },
  {
   "cell_type": "code",
   "execution_count": 16,
   "id": "regulation-inflation",
   "metadata": {},
   "outputs": [],
   "source": [
    "del h[\"Country Code\"]"
   ]
  },
  {
   "cell_type": "code",
   "execution_count": 17,
   "id": "funny-medicine",
   "metadata": {},
   "outputs": [],
   "source": [
    "del h[\"Continent_Name\"]"
   ]
  },
  {
   "cell_type": "code",
   "execution_count": 18,
   "id": "activated-australian",
   "metadata": {},
   "outputs": [],
   "source": [
    "del h[\"Continent_Code\"]"
   ]
  },
  {
   "cell_type": "code",
   "execution_count": 19,
   "id": "fourth-alabama",
   "metadata": {},
   "outputs": [],
   "source": [
    "del h[\"Country_Number\"]"
   ]
  },
  {
   "cell_type": "code",
   "execution_count": 20,
   "id": "ranking-reader",
   "metadata": {},
   "outputs": [],
   "source": [
    "del h[\"Country_Name\"]"
   ]
  },
  {
   "cell_type": "code",
   "execution_count": 21,
   "id": "associate-wrapping",
   "metadata": {},
   "outputs": [],
   "source": [
    "summableMeasures = [\n",
    "    \"Total primary energy supply (tonne of oil equivalent)\",\n",
    "    \"Production-based CO2 emissions (tonne)\",\n",
    "    \"Demand-based CO2 emissions (tonne)\",\n",
    "    \"Forest resource stocks (m3)\",\n",
    "    \"Population\",\n",
    "    \"Net migration\"\n",
    "]"
   ]
  },
  {
   "cell_type": "code",
   "execution_count": 22,
   "id": "biblical-sigma",
   "metadata": {},
   "outputs": [],
   "source": [
    "for key in m:\n",
    "    if \"%\" in key:\n",
    "        if key.endswith(\".SUM\"):\n",
    "            del m[key]\n",
    "        else:\n",
    "            m[key].formatter = \"DOUBLE[#.##%]\"\n",
    "    else:\n",
    "        isSummable = any(key.startswith(x) for x in summableMeasures)\n",
    "        if ((isSummable and key.endswith(\".MEAN\")) or (not isSummable and key.endswith(\".SUM\"))):\n",
    "            del m[key]\n",
    "        "
   ]
  },
  {
   "cell_type": "code",
   "execution_count": 23,
   "id": "explicit-peninsula",
   "metadata": {},
   "outputs": [],
   "source": [
    "h[\"Year\"].slicing = True"
   ]
  },
  {
   "cell_type": "code",
   "execution_count": 24,
   "id": "level-river",
   "metadata": {},
   "outputs": [
    {
     "data": {
      "text/plain": [
       "'http://localhost:56935'"
      ]
     },
     "execution_count": 24,
     "metadata": {},
     "output_type": "execute_result"
    }
   ],
   "source": [
    "session.url"
   ]
  },
  {
   "cell_type": "code",
   "execution_count": 25,
   "id": "muslim-composition",
   "metadata": {},
   "outputs": [
    {
     "data": {
      "application/json": {
       "Dimensions": {
        "Countries": {
         "Country": [
          "Continent_Name",
          "Country_Name"
         ]
        },
        "Green-growth": {
         "Flag Codes": [
          "Flag Codes"
         ],
         "Year (slicing)": [
          "Year"
         ]
        }
       },
       "Measures": {
        "Adjustment for pollution abatement (percentage point).MEAN": {
         "formatter": "DOUBLE[#,###.00]"
        },
        "Annual surface temperature (change since 1951-1980).MEAN": {
         "formatter": "DOUBLE[#,###.00]"
        },
        "Artificial surfaces (% of total).MEAN": {
         "formatter": "DOUBLE[#.##%]"
        },
        "Bare land (% of total).MEAN": {
         "formatter": "DOUBLE[#.##%]"
        },
        "Biomass (% of DMC).MEAN": {
         "formatter": "DOUBLE[#.##%]"
        },
        "Built up area (% of total land).MEAN": {
         "formatter": "DOUBLE[#.##%]"
        },
        "Built up area per capita (m2).MEAN": {
         "formatter": "DOUBLE[#,###.00]"
        },
        "CO2 emissions from air transport per capita (tonne).MEAN": {
         "formatter": "DOUBLE[#,###.00]"
        },
        "CO2 emissions from air transport per unit of GDP (kg).MEAN": {
         "formatter": "DOUBLE[#,###.00]"
        },
        "CO2 emissions per unit of GDP.MEAN": {
         "formatter": "DOUBLE[#,###.00]"
        },
        "Children per woman.MEAN": {
         "formatter": "DOUBLE[#,###.00]"
        },
        "Coal support (% of total fossil fuel support).MEAN": {
         "formatter": "DOUBLE[#.##%]"
        },
        "Contribution of natural capital (percentage point).MEAN": {
         "formatter": "DOUBLE[#,###.00]"
        },
        "Conversion from cropland to artificial surfaces (% since 1992).MEAN": {
         "formatter": "DOUBLE[#.##%]"
        },
        "Conversion from natural and semi-natural land to artificial surfaces (% since 1992).MEAN": {
         "formatter": "DOUBLE[#.##%]"
        },
        "Conversion from natural and semi-natural land to cropland (% since 1992).MEAN": {
         "formatter": "DOUBLE[#.##%]"
        },
        "Conversion of not-water to permanent water surface (% permanent water, since 1984).MEAN": {
         "formatter": "DOUBLE[#.##%]"
        },
        "Conversion of permanent to seasonal water surface (% permanent water, since 1984).MEAN": {
         "formatter": "DOUBLE[#.##%]"
        },
        "Conversion of permanent water to not-water surface (% of permanent water, since 1984).MEAN": {
         "formatter": "DOUBLE[#.##%]"
        },
        "Conversion of seasonal to permanent water surface (% permanent water, since 1984).MEAN": {
         "formatter": "DOUBLE[#.##%]"
        },
        "Cropland (% of total).MEAN": {
         "formatter": "DOUBLE[#.##%]"
        },
        "Demand-based CO2 emissions (tonne).SUM": {
         "formatter": "DOUBLE[#,###.00]"
        },
        "Demand-based CO2 intensity, energy-related CO2 per capita (tonne).MEAN": {
         "formatter": "DOUBLE[#,###.00]"
        },
        "Demand-based CO2 productivity, GDP per unit of energy-related CO2 emissions (USD per kg).MEAN": {
         "formatter": "DOUBLE[#,###.00]"
        },
        "Demand-based CO2 productivity, disposable income per unit of energy-related CO2 emissions (USD per kg).MEAN": {
         "formatter": "DOUBLE[#,###.00]"
        },
        "Development of environment-related technologies (% of all technologies).MEAN": {
         "formatter": "DOUBLE[#.##%]"
        },
        "Development of environment-related technologies (% of inventions worldwide).MEAN": {
         "formatter": "DOUBLE[#.##%]"
        },
        "Development of environment-related technologies (inventions per capita).MEAN": {
         "formatter": "DOUBLE[#,###.00]"
        },
        "Diesel end-user price (USD per litre).MEAN": {
         "formatter": "DOUBLE[#,###.00]"
        },
        "Diesel tax (USD per litre).MEAN": {
         "formatter": "DOUBLE[#,###.00]"
        },
        "Electricity support (% of total fossil fuel support).MEAN": {
         "formatter": "DOUBLE[#.##%]"
        },
        "Emissions priced > 30€ per tonne of CO2 (% of total emissions).MEAN": {
         "formatter": "DOUBLE[#.##%]"
        },
        "Emissions priced > 60€ per tonne of CO2 (% of total emissions).MEAN": {
         "formatter": "DOUBLE[#.##%]"
        },
        "Energy consumption in agriculture (% of total energy consumption).MEAN": {
         "formatter": "DOUBLE[#.##%]"
        },
        "Energy consumption in industry (% of total energy consumption).MEAN": {
         "formatter": "DOUBLE[#.##%]"
        },
        "Energy consumption in other sectors (% of total energy consumption).MEAN": {
         "formatter": "DOUBLE[#.##%]"
        },
        "Energy consumption in services (% of total energy consumption).MEAN": {
         "formatter": "DOUBLE[#.##%]"
        },
        "Energy consumption in transport (% of total energy consumption).MEAN": {
         "formatter": "DOUBLE[#.##%]"
        },
        "Energy public RD&D budget (% of GDP).MEAN": {
         "formatter": "DOUBLE[#.##%]"
        },
        "Energy related tax revenue (% of total environmental tax revenue).MEAN": {
         "formatter": "DOUBLE[#.##%]"
        },
        "Energy-related CO2 per capita (Tonne).MEAN": {
         "formatter": "DOUBLE[#,###.00]"
        },
        "Environmentally adjusted multifactor productivity growth (percentage point).MEAN": {
         "formatter": "DOUBLE[#,###.00]"
        },
        "Environmentally related ODA (% of total ODA).MEAN": {
         "formatter": "DOUBLE[#.##%]"
        },
        "Environmentally related R&D expenditure (% of GDP).MEAN": {
         "formatter": "DOUBLE[#.##%]"
        },
        "Environmentally related government R&D budget (% of total government R&D).MEAN": {
         "formatter": "DOUBLE[#.##%]"
        },
        "Environmentally related taxes (% of GDP).MEAN": {
         "formatter": "DOUBLE[#.##%]"
        },
        "Environmentally related taxes (% of total tax revenue).MEAN": {
         "formatter": "DOUBLE[#.##%]"
        },
        "Farmland Birds (Index, 2000=100).MEAN": {
         "formatter": "DOUBLE[#,###.00]"
        },
        "Forest Birds (Index, 2000=100).MEAN": {
         "formatter": "DOUBLE[#,###.00]"
        },
        "Forest resource stocks (m3).SUM": {
         "formatter": "DOUBLE[#,###.00]"
        },
        "Forests with long-term management plans (% of total forest area).MEAN": {
         "formatter": "DOUBLE[#.##%]"
        },
        "Fossil fuel consumer support (% energy related tax revenue).MEAN": {
         "formatter": "DOUBLE[#.##%]"
        },
        "Fossil fuel consumer support (% of total fossil fuel support).MEAN": {
         "formatter": "DOUBLE[#.##%]"
        },
        "Fossil fuel consumer support (% of total tax revenue).MEAN": {
         "formatter": "DOUBLE[#.##%]"
        },
        "Fossil fuel general services support (% of total fossil fuel support).MEAN": {
         "formatter": "DOUBLE[#.##%]"
        },
        "Fossil fuel producer support (% of total fossil fuel support).MEAN": {
         "formatter": "DOUBLE[#.##%]"
        },
        "Fossil fuel public R&D budget (excluding CCS) (% of total energy public R&D).MEAN": {
         "formatter": "DOUBLE[#.##%]"
        },
        "GDP per unit of TPES (USD).MEAN": {
         "formatter": "DOUBLE[#,###.00]"
        },
        "GDP per unit of energy-related CO2 emissions (USD per kg).MEAN": {
         "formatter": "DOUBLE[#,###.00]"
        },
        "Gain of natural and semi-natural vegetated land (% since 1992).MEAN": {
         "formatter": "DOUBLE[#.##%]"
        },
        "Gain of natural and semi-natural vegetated land (% since 2004).MEAN": {
         "formatter": "DOUBLE[#.##%]"
        },
        "Gas support (% of total fossil fuel support).MEAN": {
         "formatter": "DOUBLE[#.##%]"
        },
        "Industry electricity price (USD per kWh).MEAN": {
         "formatter": "DOUBLE[#,###.00]"
        },
        "Intact forest landscape (km2).MEAN": {
         "formatter": "DOUBLE[#,###.00]"
        },
        "Intact forest landscape loss (% since 2000).MEAN": {
         "formatter": "DOUBLE[#.##%]"
        },
        "Intensity of use of forest resources.MEAN": {
         "formatter": "DOUBLE[#,###.00]"
        },
        "Irrigated land (% of agricultural land).MEAN": {
         "formatter": "DOUBLE[#.##%]"
        },
        "Labour tax revenue (% of GDP).MEAN": {
         "formatter": "DOUBLE[#.##%]"
        },
        "Labour tax revenue (% of total tax revenue).MEAN": {
         "formatter": "DOUBLE[#.##%]"
        },
        "Life expectancy at birth.MEAN": {
         "formatter": "DOUBLE[#,###.00]"
        },
        "Loss of natural and semi-natural vegetated land (% since 1992).MEAN": {
         "formatter": "DOUBLE[#.##%]"
        },
        "Loss of natural and semi-natural vegetated land (% since 2004).MEAN": {
         "formatter": "DOUBLE[#.##%]"
        },
        "Marine protected area (% of total exclusive economic zone).MEAN": {
         "formatter": "DOUBLE[#.##%]"
        },
        "Mean feed-in tariff for solar PV electricity generation (USD).MEAN": {
         "formatter": "DOUBLE[#,###.00]"
        },
        "Mean feed-in tariff for wind electricity generation (USD).MEAN": {
         "formatter": "DOUBLE[#,###.00]"
        },
        "Mean population exposure to PM2.5.MEAN": {
         "formatter": "DOUBLE[#,###.00]"
        },
        "Metals (% of DMC).MEAN": {
         "formatter": "DOUBLE[#.##%]"
        },
        "Mortality from exposure to ambient PM2.5 (per 1M inhabitants).MEAN": {
         "formatter": "DOUBLE[#,###.00]"
        },
        "Mortality from exposure to ambient ozone (per 1M inhabitant).MEAN": {
         "formatter": "DOUBLE[#,###.00]"
        },
        "Mortality from exposure to lead (per 1M inhabitant).MEAN": {
         "formatter": "DOUBLE[#,###.00]"
        },
        "Mortality from exposure to residential radon (per 1M inhabitant).MEAN": {
         "formatter": "DOUBLE[#,###.00]"
        },
        "Municipal waste disposed to landfills, % treated waste.MEAN": {
         "formatter": "DOUBLE[#.##%]"
        },
        "Municipal waste generated (kg per capita).MEAN": {
         "formatter": "DOUBLE[#,###.00]"
        },
        "Municipal waste incinerated (% treated waste).MEAN": {
         "formatter": "DOUBLE[#.##%]"
        },
        "Municipal waste recycled or composted (% treated waste).MEAN": {
         "formatter": "DOUBLE[#.##%]"
        },
        "National expenditure on environmental protection (% of GDP).MEAN": {
         "formatter": "DOUBLE[#.##%]"
        },
        "Natural and semi-natural vegetated land (% of total).MEAN": {
         "formatter": "DOUBLE[#.##%]"
        },
        "Naturally regenerating forests (% of total forest area).MEAN": {
         "formatter": "DOUBLE[#.##%]"
        },
        "Net ODA provided (% of GNI).MEAN": {
         "formatter": "DOUBLE[#.##%]"
        },
        "Net migration.SUM": {
         "formatter": "DOUBLE[#,###.00]"
        },
        "New built up area (% since 2000).MEAN": {
         "formatter": "DOUBLE[#.##%]"
        },
        "New built up area, % since 1990.MEAN": {
         "formatter": "DOUBLE[#.##%]"
        },
        "Nitrogen balance per hectare (kg).MEAN": {
         "formatter": "DOUBLE[#,###.00]"
        },
        "Non-energy material productivity, GDP per unit of DMC (USD per kg).MEAN": {
         "formatter": "DOUBLE[#,###.00]"
        },
        "Non-metallic minerals (% of DMC).MEAN": {
         "formatter": "DOUBLE[#.##%]"
        },
        "ODA - all sectors - biodiversity (% of total ODA).MEAN": {
         "formatter": "DOUBLE[#.##%]"
        },
        "ODA - all sectors - climate change adaptation (% of total ODA).MEAN": {
         "formatter": "DOUBLE[#.##%]"
        },
        "ODA - all sectors - climate change mitigation (% of total ODA).MEAN": {
         "formatter": "DOUBLE[#.##%]"
        },
        "ODA - all sectors - desertification (% of total ODA).MEAN": {
         "formatter": "DOUBLE[#.##%]"
        },
        "ODA - environment sector (% of total allocable ODA).MEAN": {
         "formatter": "DOUBLE[#.##%]"
        },
        "ODA - renewable energy sector (% of total allocable ODA).MEAN": {
         "formatter": "DOUBLE[#.##%]"
        },
        "ODA - water supply and sanitation sector (% of total allocable ODA).MEAN": {
         "formatter": "DOUBLE[#.##%]"
        },
        "Percentage of population exposed to > 10 micrograms per m3.MEAN": {
         "formatter": "DOUBLE[#,###.00]"
        },
        "Percentage of population exposed to > 35 micrograms per m3.MEAN": {
         "formatter": "DOUBLE[#,###.00]"
        },
        "Permanent surface water (% of total surface).MEAN": {
         "formatter": "DOUBLE[#.##%]"
        },
        "Petrol end-user price (USD per litre).MEAN": {
         "formatter": "DOUBLE[#,###.00]"
        },
        "Petrol tax (USD per litre).MEAN": {
         "formatter": "DOUBLE[#,###.00]"
        },
        "Petroleum support (% of total fossil fuel support).MEAN": {
         "formatter": "DOUBLE[#.##%]"
        },
        "Phosphorus balance per hectare (kg).MEAN": {
         "formatter": "DOUBLE[#,###.00]"
        },
        "Population connected to public sewerage (% of total population).MEAN": {
         "formatter": "DOUBLE[#.##%]"
        },
        "Population connected to sewerage with primary treatment (% of total population).MEAN": {
         "formatter": "DOUBLE[#.##%]"
        },
        "Population connected to sewerage with secondary treatment (% of total population).MEAN": {
         "formatter": "DOUBLE[#.##%]"
        },
        "Population connected to sewerage with tertiary treatment (% of total population).MEAN": {
         "formatter": "DOUBLE[#.##%]"
        },
        "Population density (inhabitants per km2).SUM": {
         "formatter": "DOUBLE[#,###.00]"
        },
        "Population with access to improved drinking water sources (% of total population).MEAN": {
         "formatter": "DOUBLE[#.##%]"
        },
        "Population with access to improved sanitation (% of total population).MEAN": {
         "formatter": "DOUBLE[#.##%]"
        },
        "Population, ages 0-14 (% of total).MEAN": {
         "formatter": "DOUBLE[#.##%]"
        },
        "Population, ages 15-64 (% of total).MEAN": {
         "formatter": "DOUBLE[#.##%]"
        },
        "Population, ages 65 and above (% of total).MEAN": {
         "formatter": "DOUBLE[#.##%]"
        },
        "Population.SUM": {
         "formatter": "DOUBLE[#,###.00]"
        },
        "Production-based CO2 emissions (index, 2000=100).MEAN": {
         "formatter": "DOUBLE[#,###.00]"
        },
        "Production-based CO2 emissions (tonne).SUM": {
         "formatter": "DOUBLE[#,###.00]"
        },
        "Real GDP (Index, 2000=100).MEAN": {
         "formatter": "DOUBLE[#,###.00]"
        },
        "Real GDP per capita (USD).MEAN": {
         "formatter": "DOUBLE[#,###.00]"
        },
        "Relative advantage in environment-related technology.MEAN": {
         "formatter": "DOUBLE[#,###.00]"
        },
        "Renewable electricity (% of total electricity generation).MEAN": {
         "formatter": "DOUBLE[#.##%]"
        },
        "Renewable energy public R&D budget (% of total energy public R&D).MEAN": {
         "formatter": "DOUBLE[#.##%]"
        },
        "Renewable energy supply (% of total energy supply).MEAN": {
         "formatter": "DOUBLE[#.##%]"
        },
        "Renewable energy supply (excluding solid biofuels) (% of total energy supply).MEAN": {
         "formatter": "DOUBLE[#.##%]"
        },
        "Residential electricity price (USD per kWh).MEAN": {
         "formatter": "DOUBLE[#,###.00]"
        },
        "Road transport-related tax revenue (% of total environmental tax revenue).MEAN": {
         "formatter": "DOUBLE[#.##%]"
        },
        "Sales of pesticides per unit of agricultural land (kg).MEAN": {
         "formatter": "DOUBLE[#,###.00]"
        },
        "Seasonal surface water (% of total surface).MEAN": {
         "formatter": "DOUBLE[#.##%]"
        },
        "TPES per capita (Tonne of oil equivalent).MEAN": {
         "formatter": "DOUBLE[#,###.00]"
        },
        "Terrestrial protected area (% of land area).MEAN": {
         "formatter": "DOUBLE[#.##%]"
        },
        "Threatened bird species (% of total known species).MEAN": {
         "formatter": "DOUBLE[#.##%]"
        },
        "Threatened mammal species (% of total known species).MEAN": {
         "formatter": "DOUBLE[#.##%]"
        },
        "Threatened vascular plant species (% of total known species).MEAN": {
         "formatter": "DOUBLE[#.##%]"
        },
        "Total fossil fuel support, % of total tax revenue.MEAN": {
         "formatter": "DOUBLE[#.##%]"
        },
        "Total freshwater abstraction (m3 per capita).MEAN": {
         "formatter": "DOUBLE[#,###.00]"
        },
        "Total primary energy supply (index, 2000=100).MEAN": {
         "formatter": "DOUBLE[#,###.00]"
        },
        "Total primary energy supply (tonne of oil equivalent).SUM": {
         "formatter": "DOUBLE[#,###.00]"
        },
        "Total renewable freshwater per capita (m3 per capita).MEAN": {
         "formatter": "DOUBLE[#,###.00]"
        },
        "Value added in agriculture (% of total value added).MEAN": {
         "formatter": "DOUBLE[#.##%]"
        },
        "Value added in industry (% of total value added).MEAN": {
         "formatter": "DOUBLE[#.##%]"
        },
        "Value added in services (% of total value added).MEAN": {
         "formatter": "DOUBLE[#.##%]"
        },
        "Water (% of total).MEAN": {
         "formatter": "DOUBLE[#.##%]"
        },
        "Water stress (total freshwater abstraction as % total available renewable resources).MEAN": {
         "formatter": "DOUBLE[#.##%]"
        },
        "Water stress (total freshwater abstraction as % total internal renewable resources).MEAN": {
         "formatter": "DOUBLE[#.##%]"
        },
        "Welfare costs of premature deaths from exposure to ambient ozone (% of GDP).MEAN": {
         "formatter": "DOUBLE[#.##%]"
        },
        "Welfare costs of premature deaths from exposure to lead (% of GDP).MEAN": {
         "formatter": "DOUBLE[#.##%]"
        },
        "Welfare costs of premature mortalities from exposure to ambient PM2.5 (% of GDP).MEAN": {
         "formatter": "DOUBLE[#.##%]"
        },
        "Welfare costs of premature mortalities from exposure to residential radon (% of GDP).MEAN": {
         "formatter": "DOUBLE[#.##%]"
        },
        "Women (% of total population).MEAN": {
         "formatter": "DOUBLE[#.##%]"
        },
        "contributors.COUNT": {
         "formatter": "INT[#,###]"
        }
       }
      },
      "text/html": [
       "<ul>\n",
       "<li>Green-growth\n",
       "  <ul>\n",
       "  <li>Dimensions\n",
       "    <ul>\n",
       "    <li>Countries\n",
       "      <ul>\n",
       "      <li>Country\n",
       "        <ol>\n",
       "        <li>Continent_Name</li>\n",
       "        <li>Country_Name</li>\n",
       "        </ol>      </li>\n",
       "      </ul>\n",
       "    </li>\n",
       "    <li>Green-growth\n",
       "      <ul>\n",
       "      <li>Flag Codes\n",
       "        <ol>\n",
       "        <li>Flag Codes</li>\n",
       "        </ol>      </li>\n",
       "      <li>Year (slicing)\n",
       "        <ol>\n",
       "        <li>Year</li>\n",
       "        </ol>      </li>\n",
       "      </ul>\n",
       "    </li>\n",
       "    </ul>\n",
       "  </li>\n",
       "  <li>Measures\n",
       "    <ul>\n",
       "    <li>Adjustment for pollution abatement (percentage point).MEAN\n",
       "      <ul>\n",
       "      <li>formatter: DOUBLE[#,###.00]</li>\n",
       "      </ul>\n",
       "    </li>\n",
       "    <li>Annual surface temperature (change since 1951-1980).MEAN\n",
       "      <ul>\n",
       "      <li>formatter: DOUBLE[#,###.00]</li>\n",
       "      </ul>\n",
       "    </li>\n",
       "    <li>Artificial surfaces (% of total).MEAN\n",
       "      <ul>\n",
       "      <li>formatter: DOUBLE[#.##%]</li>\n",
       "      </ul>\n",
       "    </li>\n",
       "    <li>Bare land (% of total).MEAN\n",
       "      <ul>\n",
       "      <li>formatter: DOUBLE[#.##%]</li>\n",
       "      </ul>\n",
       "    </li>\n",
       "    <li>Biomass (% of DMC).MEAN\n",
       "      <ul>\n",
       "      <li>formatter: DOUBLE[#.##%]</li>\n",
       "      </ul>\n",
       "    </li>\n",
       "    <li>Built up area (% of total land).MEAN\n",
       "      <ul>\n",
       "      <li>formatter: DOUBLE[#.##%]</li>\n",
       "      </ul>\n",
       "    </li>\n",
       "    <li>Built up area per capita (m2).MEAN\n",
       "      <ul>\n",
       "      <li>formatter: DOUBLE[#,###.00]</li>\n",
       "      </ul>\n",
       "    </li>\n",
       "    <li>CO2 emissions from air transport per capita (tonne).MEAN\n",
       "      <ul>\n",
       "      <li>formatter: DOUBLE[#,###.00]</li>\n",
       "      </ul>\n",
       "    </li>\n",
       "    <li>CO2 emissions from air transport per unit of GDP (kg).MEAN\n",
       "      <ul>\n",
       "      <li>formatter: DOUBLE[#,###.00]</li>\n",
       "      </ul>\n",
       "    </li>\n",
       "    <li>CO2 emissions per unit of GDP.MEAN\n",
       "      <ul>\n",
       "      <li>formatter: DOUBLE[#,###.00]</li>\n",
       "      </ul>\n",
       "    </li>\n",
       "    <li>Children per woman.MEAN\n",
       "      <ul>\n",
       "      <li>formatter: DOUBLE[#,###.00]</li>\n",
       "      </ul>\n",
       "    </li>\n",
       "    <li>Coal support (% of total fossil fuel support).MEAN\n",
       "      <ul>\n",
       "      <li>formatter: DOUBLE[#.##%]</li>\n",
       "      </ul>\n",
       "    </li>\n",
       "    <li>Contribution of natural capital (percentage point).MEAN\n",
       "      <ul>\n",
       "      <li>formatter: DOUBLE[#,###.00]</li>\n",
       "      </ul>\n",
       "    </li>\n",
       "    <li>Conversion from cropland to artificial surfaces (% since 1992).MEAN\n",
       "      <ul>\n",
       "      <li>formatter: DOUBLE[#.##%]</li>\n",
       "      </ul>\n",
       "    </li>\n",
       "    <li>Conversion from natural and semi-natural land to artificial surfaces (% since 1992).MEAN\n",
       "      <ul>\n",
       "      <li>formatter: DOUBLE[#.##%]</li>\n",
       "      </ul>\n",
       "    </li>\n",
       "    <li>Conversion from natural and semi-natural land to cropland (% since 1992).MEAN\n",
       "      <ul>\n",
       "      <li>formatter: DOUBLE[#.##%]</li>\n",
       "      </ul>\n",
       "    </li>\n",
       "    <li>Conversion of not-water to permanent water surface (% permanent water, since 1984).MEAN\n",
       "      <ul>\n",
       "      <li>formatter: DOUBLE[#.##%]</li>\n",
       "      </ul>\n",
       "    </li>\n",
       "    <li>Conversion of permanent to seasonal water surface (% permanent water, since 1984).MEAN\n",
       "      <ul>\n",
       "      <li>formatter: DOUBLE[#.##%]</li>\n",
       "      </ul>\n",
       "    </li>\n",
       "    <li>Conversion of permanent water to not-water surface (% of permanent water, since 1984).MEAN\n",
       "      <ul>\n",
       "      <li>formatter: DOUBLE[#.##%]</li>\n",
       "      </ul>\n",
       "    </li>\n",
       "    <li>Conversion of seasonal to permanent water surface (% permanent water, since 1984).MEAN\n",
       "      <ul>\n",
       "      <li>formatter: DOUBLE[#.##%]</li>\n",
       "      </ul>\n",
       "    </li>\n",
       "    <li>Cropland (% of total).MEAN\n",
       "      <ul>\n",
       "      <li>formatter: DOUBLE[#.##%]</li>\n",
       "      </ul>\n",
       "    </li>\n",
       "    <li>Demand-based CO2 emissions (tonne).SUM\n",
       "      <ul>\n",
       "      <li>formatter: DOUBLE[#,###.00]</li>\n",
       "      </ul>\n",
       "    </li>\n",
       "    <li>Demand-based CO2 intensity, energy-related CO2 per capita (tonne).MEAN\n",
       "      <ul>\n",
       "      <li>formatter: DOUBLE[#,###.00]</li>\n",
       "      </ul>\n",
       "    </li>\n",
       "    <li>Demand-based CO2 productivity, GDP per unit of energy-related CO2 emissions (USD per kg).MEAN\n",
       "      <ul>\n",
       "      <li>formatter: DOUBLE[#,###.00]</li>\n",
       "      </ul>\n",
       "    </li>\n",
       "    <li>Demand-based CO2 productivity, disposable income per unit of energy-related CO2 emissions (USD per kg).MEAN\n",
       "      <ul>\n",
       "      <li>formatter: DOUBLE[#,###.00]</li>\n",
       "      </ul>\n",
       "    </li>\n",
       "    <li>Development of environment-related technologies (% of all technologies).MEAN\n",
       "      <ul>\n",
       "      <li>formatter: DOUBLE[#.##%]</li>\n",
       "      </ul>\n",
       "    </li>\n",
       "    <li>Development of environment-related technologies (% of inventions worldwide).MEAN\n",
       "      <ul>\n",
       "      <li>formatter: DOUBLE[#.##%]</li>\n",
       "      </ul>\n",
       "    </li>\n",
       "    <li>Development of environment-related technologies (inventions per capita).MEAN\n",
       "      <ul>\n",
       "      <li>formatter: DOUBLE[#,###.00]</li>\n",
       "      </ul>\n",
       "    </li>\n",
       "    <li>Diesel end-user price (USD per litre).MEAN\n",
       "      <ul>\n",
       "      <li>formatter: DOUBLE[#,###.00]</li>\n",
       "      </ul>\n",
       "    </li>\n",
       "    <li>Diesel tax (USD per litre).MEAN\n",
       "      <ul>\n",
       "      <li>formatter: DOUBLE[#,###.00]</li>\n",
       "      </ul>\n",
       "    </li>\n",
       "    <li>Electricity support (% of total fossil fuel support).MEAN\n",
       "      <ul>\n",
       "      <li>formatter: DOUBLE[#.##%]</li>\n",
       "      </ul>\n",
       "    </li>\n",
       "    <li>Emissions priced > 30€ per tonne of CO2 (% of total emissions).MEAN\n",
       "      <ul>\n",
       "      <li>formatter: DOUBLE[#.##%]</li>\n",
       "      </ul>\n",
       "    </li>\n",
       "    <li>Emissions priced > 60€ per tonne of CO2 (% of total emissions).MEAN\n",
       "      <ul>\n",
       "      <li>formatter: DOUBLE[#.##%]</li>\n",
       "      </ul>\n",
       "    </li>\n",
       "    <li>Energy consumption in agriculture (% of total energy consumption).MEAN\n",
       "      <ul>\n",
       "      <li>formatter: DOUBLE[#.##%]</li>\n",
       "      </ul>\n",
       "    </li>\n",
       "    <li>Energy consumption in industry (% of total energy consumption).MEAN\n",
       "      <ul>\n",
       "      <li>formatter: DOUBLE[#.##%]</li>\n",
       "      </ul>\n",
       "    </li>\n",
       "    <li>Energy consumption in other sectors (% of total energy consumption).MEAN\n",
       "      <ul>\n",
       "      <li>formatter: DOUBLE[#.##%]</li>\n",
       "      </ul>\n",
       "    </li>\n",
       "    <li>Energy consumption in services (% of total energy consumption).MEAN\n",
       "      <ul>\n",
       "      <li>formatter: DOUBLE[#.##%]</li>\n",
       "      </ul>\n",
       "    </li>\n",
       "    <li>Energy consumption in transport (% of total energy consumption).MEAN\n",
       "      <ul>\n",
       "      <li>formatter: DOUBLE[#.##%]</li>\n",
       "      </ul>\n",
       "    </li>\n",
       "    <li>Energy public RD&D budget (% of GDP).MEAN\n",
       "      <ul>\n",
       "      <li>formatter: DOUBLE[#.##%]</li>\n",
       "      </ul>\n",
       "    </li>\n",
       "    <li>Energy related tax revenue (% of total environmental tax revenue).MEAN\n",
       "      <ul>\n",
       "      <li>formatter: DOUBLE[#.##%]</li>\n",
       "      </ul>\n",
       "    </li>\n",
       "    <li>Energy-related CO2 per capita (Tonne).MEAN\n",
       "      <ul>\n",
       "      <li>formatter: DOUBLE[#,###.00]</li>\n",
       "      </ul>\n",
       "    </li>\n",
       "    <li>Environmentally adjusted multifactor productivity growth (percentage point).MEAN\n",
       "      <ul>\n",
       "      <li>formatter: DOUBLE[#,###.00]</li>\n",
       "      </ul>\n",
       "    </li>\n",
       "    <li>Environmentally related ODA (% of total ODA).MEAN\n",
       "      <ul>\n",
       "      <li>formatter: DOUBLE[#.##%]</li>\n",
       "      </ul>\n",
       "    </li>\n",
       "    <li>Environmentally related R&D expenditure (% of GDP).MEAN\n",
       "      <ul>\n",
       "      <li>formatter: DOUBLE[#.##%]</li>\n",
       "      </ul>\n",
       "    </li>\n",
       "    <li>Environmentally related government R&D budget (% of total government R&D).MEAN\n",
       "      <ul>\n",
       "      <li>formatter: DOUBLE[#.##%]</li>\n",
       "      </ul>\n",
       "    </li>\n",
       "    <li>Environmentally related taxes (% of GDP).MEAN\n",
       "      <ul>\n",
       "      <li>formatter: DOUBLE[#.##%]</li>\n",
       "      </ul>\n",
       "    </li>\n",
       "    <li>Environmentally related taxes (% of total tax revenue).MEAN\n",
       "      <ul>\n",
       "      <li>formatter: DOUBLE[#.##%]</li>\n",
       "      </ul>\n",
       "    </li>\n",
       "    <li>Farmland Birds (Index, 2000=100).MEAN\n",
       "      <ul>\n",
       "      <li>formatter: DOUBLE[#,###.00]</li>\n",
       "      </ul>\n",
       "    </li>\n",
       "    <li>Forest Birds (Index, 2000=100).MEAN\n",
       "      <ul>\n",
       "      <li>formatter: DOUBLE[#,###.00]</li>\n",
       "      </ul>\n",
       "    </li>\n",
       "    <li>Forest resource stocks (m3).SUM\n",
       "      <ul>\n",
       "      <li>formatter: DOUBLE[#,###.00]</li>\n",
       "      </ul>\n",
       "    </li>\n",
       "    <li>Forests with long-term management plans (% of total forest area).MEAN\n",
       "      <ul>\n",
       "      <li>formatter: DOUBLE[#.##%]</li>\n",
       "      </ul>\n",
       "    </li>\n",
       "    <li>Fossil fuel consumer support (% energy related tax revenue).MEAN\n",
       "      <ul>\n",
       "      <li>formatter: DOUBLE[#.##%]</li>\n",
       "      </ul>\n",
       "    </li>\n",
       "    <li>Fossil fuel consumer support (% of total fossil fuel support).MEAN\n",
       "      <ul>\n",
       "      <li>formatter: DOUBLE[#.##%]</li>\n",
       "      </ul>\n",
       "    </li>\n",
       "    <li>Fossil fuel consumer support (% of total tax revenue).MEAN\n",
       "      <ul>\n",
       "      <li>formatter: DOUBLE[#.##%]</li>\n",
       "      </ul>\n",
       "    </li>\n",
       "    <li>Fossil fuel general services support (% of total fossil fuel support).MEAN\n",
       "      <ul>\n",
       "      <li>formatter: DOUBLE[#.##%]</li>\n",
       "      </ul>\n",
       "    </li>\n",
       "    <li>Fossil fuel producer support (% of total fossil fuel support).MEAN\n",
       "      <ul>\n",
       "      <li>formatter: DOUBLE[#.##%]</li>\n",
       "      </ul>\n",
       "    </li>\n",
       "    <li>Fossil fuel public R&D budget (excluding CCS) (% of total energy public R&D).MEAN\n",
       "      <ul>\n",
       "      <li>formatter: DOUBLE[#.##%]</li>\n",
       "      </ul>\n",
       "    </li>\n",
       "    <li>GDP per unit of TPES (USD).MEAN\n",
       "      <ul>\n",
       "      <li>formatter: DOUBLE[#,###.00]</li>\n",
       "      </ul>\n",
       "    </li>\n",
       "    <li>GDP per unit of energy-related CO2 emissions (USD per kg).MEAN\n",
       "      <ul>\n",
       "      <li>formatter: DOUBLE[#,###.00]</li>\n",
       "      </ul>\n",
       "    </li>\n",
       "    <li>Gain of natural and semi-natural vegetated land (% since 1992).MEAN\n",
       "      <ul>\n",
       "      <li>formatter: DOUBLE[#.##%]</li>\n",
       "      </ul>\n",
       "    </li>\n",
       "    <li>Gain of natural and semi-natural vegetated land (% since 2004).MEAN\n",
       "      <ul>\n",
       "      <li>formatter: DOUBLE[#.##%]</li>\n",
       "      </ul>\n",
       "    </li>\n",
       "    <li>Gas support (% of total fossil fuel support).MEAN\n",
       "      <ul>\n",
       "      <li>formatter: DOUBLE[#.##%]</li>\n",
       "      </ul>\n",
       "    </li>\n",
       "    <li>Industry electricity price (USD per kWh).MEAN\n",
       "      <ul>\n",
       "      <li>formatter: DOUBLE[#,###.00]</li>\n",
       "      </ul>\n",
       "    </li>\n",
       "    <li>Intact forest landscape (km2).MEAN\n",
       "      <ul>\n",
       "      <li>formatter: DOUBLE[#,###.00]</li>\n",
       "      </ul>\n",
       "    </li>\n",
       "    <li>Intact forest landscape loss (% since 2000).MEAN\n",
       "      <ul>\n",
       "      <li>formatter: DOUBLE[#.##%]</li>\n",
       "      </ul>\n",
       "    </li>\n",
       "    <li>Intensity of use of forest resources.MEAN\n",
       "      <ul>\n",
       "      <li>formatter: DOUBLE[#,###.00]</li>\n",
       "      </ul>\n",
       "    </li>\n",
       "    <li>Irrigated land (% of agricultural land).MEAN\n",
       "      <ul>\n",
       "      <li>formatter: DOUBLE[#.##%]</li>\n",
       "      </ul>\n",
       "    </li>\n",
       "    <li>Labour tax revenue (% of GDP).MEAN\n",
       "      <ul>\n",
       "      <li>formatter: DOUBLE[#.##%]</li>\n",
       "      </ul>\n",
       "    </li>\n",
       "    <li>Labour tax revenue (% of total tax revenue).MEAN\n",
       "      <ul>\n",
       "      <li>formatter: DOUBLE[#.##%]</li>\n",
       "      </ul>\n",
       "    </li>\n",
       "    <li>Life expectancy at birth.MEAN\n",
       "      <ul>\n",
       "      <li>formatter: DOUBLE[#,###.00]</li>\n",
       "      </ul>\n",
       "    </li>\n",
       "    <li>Loss of natural and semi-natural vegetated land (% since 1992).MEAN\n",
       "      <ul>\n",
       "      <li>formatter: DOUBLE[#.##%]</li>\n",
       "      </ul>\n",
       "    </li>\n",
       "    <li>Loss of natural and semi-natural vegetated land (% since 2004).MEAN\n",
       "      <ul>\n",
       "      <li>formatter: DOUBLE[#.##%]</li>\n",
       "      </ul>\n",
       "    </li>\n",
       "    <li>Marine protected area (% of total exclusive economic zone).MEAN\n",
       "      <ul>\n",
       "      <li>formatter: DOUBLE[#.##%]</li>\n",
       "      </ul>\n",
       "    </li>\n",
       "    <li>Mean feed-in tariff for solar PV electricity generation (USD).MEAN\n",
       "      <ul>\n",
       "      <li>formatter: DOUBLE[#,###.00]</li>\n",
       "      </ul>\n",
       "    </li>\n",
       "    <li>Mean feed-in tariff for wind electricity generation (USD).MEAN\n",
       "      <ul>\n",
       "      <li>formatter: DOUBLE[#,###.00]</li>\n",
       "      </ul>\n",
       "    </li>\n",
       "    <li>Mean population exposure to PM2.5.MEAN\n",
       "      <ul>\n",
       "      <li>formatter: DOUBLE[#,###.00]</li>\n",
       "      </ul>\n",
       "    </li>\n",
       "    <li>Metals (% of DMC).MEAN\n",
       "      <ul>\n",
       "      <li>formatter: DOUBLE[#.##%]</li>\n",
       "      </ul>\n",
       "    </li>\n",
       "    <li>Mortality from exposure to ambient PM2.5 (per 1M inhabitants).MEAN\n",
       "      <ul>\n",
       "      <li>formatter: DOUBLE[#,###.00]</li>\n",
       "      </ul>\n",
       "    </li>\n",
       "    <li>Mortality from exposure to ambient ozone (per 1M inhabitant).MEAN\n",
       "      <ul>\n",
       "      <li>formatter: DOUBLE[#,###.00]</li>\n",
       "      </ul>\n",
       "    </li>\n",
       "    <li>Mortality from exposure to lead (per 1M inhabitant).MEAN\n",
       "      <ul>\n",
       "      <li>formatter: DOUBLE[#,###.00]</li>\n",
       "      </ul>\n",
       "    </li>\n",
       "    <li>Mortality from exposure to residential radon (per 1M inhabitant).MEAN\n",
       "      <ul>\n",
       "      <li>formatter: DOUBLE[#,###.00]</li>\n",
       "      </ul>\n",
       "    </li>\n",
       "    <li>Municipal waste disposed to landfills, % treated waste.MEAN\n",
       "      <ul>\n",
       "      <li>formatter: DOUBLE[#.##%]</li>\n",
       "      </ul>\n",
       "    </li>\n",
       "    <li>Municipal waste generated (kg per capita).MEAN\n",
       "      <ul>\n",
       "      <li>formatter: DOUBLE[#,###.00]</li>\n",
       "      </ul>\n",
       "    </li>\n",
       "    <li>Municipal waste incinerated (% treated waste).MEAN\n",
       "      <ul>\n",
       "      <li>formatter: DOUBLE[#.##%]</li>\n",
       "      </ul>\n",
       "    </li>\n",
       "    <li>Municipal waste recycled or composted (% treated waste).MEAN\n",
       "      <ul>\n",
       "      <li>formatter: DOUBLE[#.##%]</li>\n",
       "      </ul>\n",
       "    </li>\n",
       "    <li>National expenditure on environmental protection (% of GDP).MEAN\n",
       "      <ul>\n",
       "      <li>formatter: DOUBLE[#.##%]</li>\n",
       "      </ul>\n",
       "    </li>\n",
       "    <li>Natural and semi-natural vegetated land (% of total).MEAN\n",
       "      <ul>\n",
       "      <li>formatter: DOUBLE[#.##%]</li>\n",
       "      </ul>\n",
       "    </li>\n",
       "    <li>Naturally regenerating forests (% of total forest area).MEAN\n",
       "      <ul>\n",
       "      <li>formatter: DOUBLE[#.##%]</li>\n",
       "      </ul>\n",
       "    </li>\n",
       "    <li>Net ODA provided (% of GNI).MEAN\n",
       "      <ul>\n",
       "      <li>formatter: DOUBLE[#.##%]</li>\n",
       "      </ul>\n",
       "    </li>\n",
       "    <li>Net migration.SUM\n",
       "      <ul>\n",
       "      <li>formatter: DOUBLE[#,###.00]</li>\n",
       "      </ul>\n",
       "    </li>\n",
       "    <li>New built up area (% since 2000).MEAN\n",
       "      <ul>\n",
       "      <li>formatter: DOUBLE[#.##%]</li>\n",
       "      </ul>\n",
       "    </li>\n",
       "    <li>New built up area, % since 1990.MEAN\n",
       "      <ul>\n",
       "      <li>formatter: DOUBLE[#.##%]</li>\n",
       "      </ul>\n",
       "    </li>\n",
       "    <li>Nitrogen balance per hectare (kg).MEAN\n",
       "      <ul>\n",
       "      <li>formatter: DOUBLE[#,###.00]</li>\n",
       "      </ul>\n",
       "    </li>\n",
       "    <li>Non-energy material productivity, GDP per unit of DMC (USD per kg).MEAN\n",
       "      <ul>\n",
       "      <li>formatter: DOUBLE[#,###.00]</li>\n",
       "      </ul>\n",
       "    </li>\n",
       "    <li>Non-metallic minerals (% of DMC).MEAN\n",
       "      <ul>\n",
       "      <li>formatter: DOUBLE[#.##%]</li>\n",
       "      </ul>\n",
       "    </li>\n",
       "    <li>ODA - all sectors - biodiversity (% of total ODA).MEAN\n",
       "      <ul>\n",
       "      <li>formatter: DOUBLE[#.##%]</li>\n",
       "      </ul>\n",
       "    </li>\n",
       "    <li>ODA - all sectors - climate change adaptation (% of total ODA).MEAN\n",
       "      <ul>\n",
       "      <li>formatter: DOUBLE[#.##%]</li>\n",
       "      </ul>\n",
       "    </li>\n",
       "    <li>ODA - all sectors - climate change mitigation (% of total ODA).MEAN\n",
       "      <ul>\n",
       "      <li>formatter: DOUBLE[#.##%]</li>\n",
       "      </ul>\n",
       "    </li>\n",
       "    <li>ODA - all sectors - desertification (% of total ODA).MEAN\n",
       "      <ul>\n",
       "      <li>formatter: DOUBLE[#.##%]</li>\n",
       "      </ul>\n",
       "    </li>\n",
       "    <li>ODA - environment sector (% of total allocable ODA).MEAN\n",
       "      <ul>\n",
       "      <li>formatter: DOUBLE[#.##%]</li>\n",
       "      </ul>\n",
       "    </li>\n",
       "    <li>ODA - renewable energy sector (% of total allocable ODA).MEAN\n",
       "      <ul>\n",
       "      <li>formatter: DOUBLE[#.##%]</li>\n",
       "      </ul>\n",
       "    </li>\n",
       "    <li>ODA - water supply and sanitation sector (% of total allocable ODA).MEAN\n",
       "      <ul>\n",
       "      <li>formatter: DOUBLE[#.##%]</li>\n",
       "      </ul>\n",
       "    </li>\n",
       "    <li>Percentage of population exposed to > 10 micrograms per m3.MEAN\n",
       "      <ul>\n",
       "      <li>formatter: DOUBLE[#,###.00]</li>\n",
       "      </ul>\n",
       "    </li>\n",
       "    <li>Percentage of population exposed to > 35 micrograms per m3.MEAN\n",
       "      <ul>\n",
       "      <li>formatter: DOUBLE[#,###.00]</li>\n",
       "      </ul>\n",
       "    </li>\n",
       "    <li>Permanent surface water (% of total surface).MEAN\n",
       "      <ul>\n",
       "      <li>formatter: DOUBLE[#.##%]</li>\n",
       "      </ul>\n",
       "    </li>\n",
       "    <li>Petrol end-user price (USD per litre).MEAN\n",
       "      <ul>\n",
       "      <li>formatter: DOUBLE[#,###.00]</li>\n",
       "      </ul>\n",
       "    </li>\n",
       "    <li>Petrol tax (USD per litre).MEAN\n",
       "      <ul>\n",
       "      <li>formatter: DOUBLE[#,###.00]</li>\n",
       "      </ul>\n",
       "    </li>\n",
       "    <li>Petroleum support (% of total fossil fuel support).MEAN\n",
       "      <ul>\n",
       "      <li>formatter: DOUBLE[#.##%]</li>\n",
       "      </ul>\n",
       "    </li>\n",
       "    <li>Phosphorus balance per hectare (kg).MEAN\n",
       "      <ul>\n",
       "      <li>formatter: DOUBLE[#,###.00]</li>\n",
       "      </ul>\n",
       "    </li>\n",
       "    <li>Population connected to public sewerage (% of total population).MEAN\n",
       "      <ul>\n",
       "      <li>formatter: DOUBLE[#.##%]</li>\n",
       "      </ul>\n",
       "    </li>\n",
       "    <li>Population connected to sewerage with primary treatment (% of total population).MEAN\n",
       "      <ul>\n",
       "      <li>formatter: DOUBLE[#.##%]</li>\n",
       "      </ul>\n",
       "    </li>\n",
       "    <li>Population connected to sewerage with secondary treatment (% of total population).MEAN\n",
       "      <ul>\n",
       "      <li>formatter: DOUBLE[#.##%]</li>\n",
       "      </ul>\n",
       "    </li>\n",
       "    <li>Population connected to sewerage with tertiary treatment (% of total population).MEAN\n",
       "      <ul>\n",
       "      <li>formatter: DOUBLE[#.##%]</li>\n",
       "      </ul>\n",
       "    </li>\n",
       "    <li>Population density (inhabitants per km2).SUM\n",
       "      <ul>\n",
       "      <li>formatter: DOUBLE[#,###.00]</li>\n",
       "      </ul>\n",
       "    </li>\n",
       "    <li>Population with access to improved drinking water sources (% of total population).MEAN\n",
       "      <ul>\n",
       "      <li>formatter: DOUBLE[#.##%]</li>\n",
       "      </ul>\n",
       "    </li>\n",
       "    <li>Population with access to improved sanitation (% of total population).MEAN\n",
       "      <ul>\n",
       "      <li>formatter: DOUBLE[#.##%]</li>\n",
       "      </ul>\n",
       "    </li>\n",
       "    <li>Population, ages 0-14 (% of total).MEAN\n",
       "      <ul>\n",
       "      <li>formatter: DOUBLE[#.##%]</li>\n",
       "      </ul>\n",
       "    </li>\n",
       "    <li>Population, ages 15-64 (% of total).MEAN\n",
       "      <ul>\n",
       "      <li>formatter: DOUBLE[#.##%]</li>\n",
       "      </ul>\n",
       "    </li>\n",
       "    <li>Population, ages 65 and above (% of total).MEAN\n",
       "      <ul>\n",
       "      <li>formatter: DOUBLE[#.##%]</li>\n",
       "      </ul>\n",
       "    </li>\n",
       "    <li>Population.SUM\n",
       "      <ul>\n",
       "      <li>formatter: DOUBLE[#,###.00]</li>\n",
       "      </ul>\n",
       "    </li>\n",
       "    <li>Production-based CO2 emissions (index, 2000=100).MEAN\n",
       "      <ul>\n",
       "      <li>formatter: DOUBLE[#,###.00]</li>\n",
       "      </ul>\n",
       "    </li>\n",
       "    <li>Production-based CO2 emissions (tonne).SUM\n",
       "      <ul>\n",
       "      <li>formatter: DOUBLE[#,###.00]</li>\n",
       "      </ul>\n",
       "    </li>\n",
       "    <li>Real GDP (Index, 2000=100).MEAN\n",
       "      <ul>\n",
       "      <li>formatter: DOUBLE[#,###.00]</li>\n",
       "      </ul>\n",
       "    </li>\n",
       "    <li>Real GDP per capita (USD).MEAN\n",
       "      <ul>\n",
       "      <li>formatter: DOUBLE[#,###.00]</li>\n",
       "      </ul>\n",
       "    </li>\n",
       "    <li>Relative advantage in environment-related technology.MEAN\n",
       "      <ul>\n",
       "      <li>formatter: DOUBLE[#,###.00]</li>\n",
       "      </ul>\n",
       "    </li>\n",
       "    <li>Renewable electricity (% of total electricity generation).MEAN\n",
       "      <ul>\n",
       "      <li>formatter: DOUBLE[#.##%]</li>\n",
       "      </ul>\n",
       "    </li>\n",
       "    <li>Renewable energy public R&D budget (% of total energy public R&D).MEAN\n",
       "      <ul>\n",
       "      <li>formatter: DOUBLE[#.##%]</li>\n",
       "      </ul>\n",
       "    </li>\n",
       "    <li>Renewable energy supply (% of total energy supply).MEAN\n",
       "      <ul>\n",
       "      <li>formatter: DOUBLE[#.##%]</li>\n",
       "      </ul>\n",
       "    </li>\n",
       "    <li>Renewable energy supply (excluding solid biofuels) (% of total energy supply).MEAN\n",
       "      <ul>\n",
       "      <li>formatter: DOUBLE[#.##%]</li>\n",
       "      </ul>\n",
       "    </li>\n",
       "    <li>Residential electricity price (USD per kWh).MEAN\n",
       "      <ul>\n",
       "      <li>formatter: DOUBLE[#,###.00]</li>\n",
       "      </ul>\n",
       "    </li>\n",
       "    <li>Road transport-related tax revenue (% of total environmental tax revenue).MEAN\n",
       "      <ul>\n",
       "      <li>formatter: DOUBLE[#.##%]</li>\n",
       "      </ul>\n",
       "    </li>\n",
       "    <li>Sales of pesticides per unit of agricultural land (kg).MEAN\n",
       "      <ul>\n",
       "      <li>formatter: DOUBLE[#,###.00]</li>\n",
       "      </ul>\n",
       "    </li>\n",
       "    <li>Seasonal surface water (% of total surface).MEAN\n",
       "      <ul>\n",
       "      <li>formatter: DOUBLE[#.##%]</li>\n",
       "      </ul>\n",
       "    </li>\n",
       "    <li>TPES per capita (Tonne of oil equivalent).MEAN\n",
       "      <ul>\n",
       "      <li>formatter: DOUBLE[#,###.00]</li>\n",
       "      </ul>\n",
       "    </li>\n",
       "    <li>Terrestrial protected area (% of land area).MEAN\n",
       "      <ul>\n",
       "      <li>formatter: DOUBLE[#.##%]</li>\n",
       "      </ul>\n",
       "    </li>\n",
       "    <li>Threatened bird species (% of total known species).MEAN\n",
       "      <ul>\n",
       "      <li>formatter: DOUBLE[#.##%]</li>\n",
       "      </ul>\n",
       "    </li>\n",
       "    <li>Threatened mammal species (% of total known species).MEAN\n",
       "      <ul>\n",
       "      <li>formatter: DOUBLE[#.##%]</li>\n",
       "      </ul>\n",
       "    </li>\n",
       "    <li>Threatened vascular plant species (% of total known species).MEAN\n",
       "      <ul>\n",
       "      <li>formatter: DOUBLE[#.##%]</li>\n",
       "      </ul>\n",
       "    </li>\n",
       "    <li>Total fossil fuel support, % of total tax revenue.MEAN\n",
       "      <ul>\n",
       "      <li>formatter: DOUBLE[#.##%]</li>\n",
       "      </ul>\n",
       "    </li>\n",
       "    <li>Total freshwater abstraction (m3 per capita).MEAN\n",
       "      <ul>\n",
       "      <li>formatter: DOUBLE[#,###.00]</li>\n",
       "      </ul>\n",
       "    </li>\n",
       "    <li>Total primary energy supply (index, 2000=100).MEAN\n",
       "      <ul>\n",
       "      <li>formatter: DOUBLE[#,###.00]</li>\n",
       "      </ul>\n",
       "    </li>\n",
       "    <li>Total primary energy supply (tonne of oil equivalent).SUM\n",
       "      <ul>\n",
       "      <li>formatter: DOUBLE[#,###.00]</li>\n",
       "      </ul>\n",
       "    </li>\n",
       "    <li>Total renewable freshwater per capita (m3 per capita).MEAN\n",
       "      <ul>\n",
       "      <li>formatter: DOUBLE[#,###.00]</li>\n",
       "      </ul>\n",
       "    </li>\n",
       "    <li>Value added in agriculture (% of total value added).MEAN\n",
       "      <ul>\n",
       "      <li>formatter: DOUBLE[#.##%]</li>\n",
       "      </ul>\n",
       "    </li>\n",
       "    <li>Value added in industry (% of total value added).MEAN\n",
       "      <ul>\n",
       "      <li>formatter: DOUBLE[#.##%]</li>\n",
       "      </ul>\n",
       "    </li>\n",
       "    <li>Value added in services (% of total value added).MEAN\n",
       "      <ul>\n",
       "      <li>formatter: DOUBLE[#.##%]</li>\n",
       "      </ul>\n",
       "    </li>\n",
       "    <li>Water (% of total).MEAN\n",
       "      <ul>\n",
       "      <li>formatter: DOUBLE[#.##%]</li>\n",
       "      </ul>\n",
       "    </li>\n",
       "    <li>Water stress (total freshwater abstraction as % total available renewable resources).MEAN\n",
       "      <ul>\n",
       "      <li>formatter: DOUBLE[#.##%]</li>\n",
       "      </ul>\n",
       "    </li>\n",
       "    <li>Water stress (total freshwater abstraction as % total internal renewable resources).MEAN\n",
       "      <ul>\n",
       "      <li>formatter: DOUBLE[#.##%]</li>\n",
       "      </ul>\n",
       "    </li>\n",
       "    <li>Welfare costs of premature deaths from exposure to ambient ozone (% of GDP).MEAN\n",
       "      <ul>\n",
       "      <li>formatter: DOUBLE[#.##%]</li>\n",
       "      </ul>\n",
       "    </li>\n",
       "    <li>Welfare costs of premature deaths from exposure to lead (% of GDP).MEAN\n",
       "      <ul>\n",
       "      <li>formatter: DOUBLE[#.##%]</li>\n",
       "      </ul>\n",
       "    </li>\n",
       "    <li>Welfare costs of premature mortalities from exposure to ambient PM2.5 (% of GDP).MEAN\n",
       "      <ul>\n",
       "      <li>formatter: DOUBLE[#.##%]</li>\n",
       "      </ul>\n",
       "    </li>\n",
       "    <li>Welfare costs of premature mortalities from exposure to residential radon (% of GDP).MEAN\n",
       "      <ul>\n",
       "      <li>formatter: DOUBLE[#.##%]</li>\n",
       "      </ul>\n",
       "    </li>\n",
       "    <li>Women (% of total population).MEAN\n",
       "      <ul>\n",
       "      <li>formatter: DOUBLE[#.##%]</li>\n",
       "      </ul>\n",
       "    </li>\n",
       "    <li>contributors.COUNT\n",
       "      <ul>\n",
       "      <li>formatter: INT[#,###]</li>\n",
       "      </ul>\n",
       "    </li>\n",
       "    </ul>\n",
       "  </li>\n",
       "  </ul>\n",
       "</li>\n",
       "</ul>\n"
      ],
      "text/plain": [
       "<atoti.cube.Cube at 0x2f1e2375820>"
      ]
     },
     "execution_count": 25,
     "metadata": {
      "application/json": {
       "expanded": false,
       "root": "Green-growth"
      }
     },
     "output_type": "execute_result"
    }
   ],
   "source": [
    "cube"
   ]
  }
 ],
 "metadata": {
  "kernelspec": {
   "display_name": "Python 3",
   "language": "python",
   "name": "python3"
  },
  "language_info": {
   "codemirror_mode": {
    "name": "ipython",
    "version": 3
   },
   "file_extension": ".py",
   "mimetype": "text/x-python",
   "name": "python",
   "nbconvert_exporter": "python",
   "pygments_lexer": "ipython3",
   "version": "3.9.2"
  }
 },
 "nbformat": 4,
 "nbformat_minor": 5
}
